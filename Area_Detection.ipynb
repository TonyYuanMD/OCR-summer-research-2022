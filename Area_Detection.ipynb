{
 "cells": [
  {
   "cell_type": "code",
   "execution_count": 2,
   "id": "1c908c47",
   "metadata": {},
   "outputs": [],
   "source": [
    "import cv2\n",
    "import sys\n",
    "import numpy as np"
   ]
  },
  {
   "cell_type": "code",
   "execution_count": 3,
   "id": "dbfe1b5c",
   "metadata": {},
   "outputs": [],
   "source": [
    "def findTextRegion(img):\n",
    "    region = []\n",
    " \n",
    "    # 1. 查找轮廓\n",
    "    contours, hierarchy = cv2.findContours(img, cv2.RETR_TREE, cv2.CHAIN_APPROX_SIMPLE)\n",
    " \n",
    "    # 2. 筛选那些面积小的\n",
    "    for i in range(len(contours)):\n",
    "        cnt = contours[i]\n",
    "        # 计算该轮廓的面积\n",
    "        area = cv2.contourArea(cnt) \n",
    " \n",
    "        # 面积小的都筛选掉\n",
    "        if(area < 1000):\n",
    "            continue\n",
    " \n",
    "        # 轮廓近似，作用很小\n",
    "        epsilon = 0.001 * cv2.arcLength(cnt, True)\n",
    "        approx = cv2.approxPolyDP(cnt, epsilon, True)\n",
    " \n",
    "        # 找到最小的矩形，该矩形可能有方向\n",
    "        rect = cv2.minAreaRect(cnt)\n",
    "        #print \"rect is: \"\n",
    "        #print rect\n",
    " \n",
    "        # box是四个点的坐标\n",
    "        box = cv2.boxPoints(rect)\n",
    "        box = np.int0(box)\n",
    " \n",
    "        # 计算高和宽\n",
    "        height = abs(box[0][1] - box[2][1])\n",
    "        width = abs(box[0][0] - box[2][0])\n",
    " \n",
    "        # 筛选那些太细的矩形，留下扁的\n",
    "        if(height > width * 1.2):\n",
    "            continue\n",
    " \n",
    "        region.append(box)\n",
    " \n",
    "    return region"
   ]
  },
  {
   "cell_type": "code",
   "execution_count": 4,
   "id": "ccc31e7f",
   "metadata": {},
   "outputs": [],
   "source": [
    "def preprocess(gray):\n",
    "    # 1. Sobel算子，x方向求梯度\n",
    "    sobel = cv2.Sobel(gray, cv2.CV_8U, 1, 0, ksize = 3)\n",
    "    # 2. 二值化\n",
    "    ret, binary = cv2.threshold(sobel, 0, 255, cv2.THRESH_OTSU+cv2.THRESH_BINARY)\n",
    " \n",
    "    # 3. 膨胀和腐蚀操作的核函数\n",
    "    element1 = cv2.getStructuringElement(cv2.MORPH_RECT, (30, 9))\n",
    "    element2 = cv2.getStructuringElement(cv2.MORPH_RECT, (24, 6))\n",
    " \n",
    "    # 4. 膨胀一次，让轮廓突出\n",
    "    dilation = cv2.dilate(binary, element2, iterations = 1)\n",
    " \n",
    "    # 5. 腐蚀一次，去掉细节，如表格线等。注意这里去掉的是竖直的线\n",
    "    erosion = cv2.erode(dilation, element1, iterations = 1)\n",
    " \n",
    "    # 6. 再次膨胀，让轮廓明显一些\n",
    "    dilation2 = cv2.dilate(erosion, element2, iterations = 3)\n",
    " \n",
    "    # 7. 存储中间图片 \n",
    "    cv2.imwrite(\"binary.png\", binary)\n",
    "    cv2.imwrite(\"dilation.png\", dilation)\n",
    "    cv2.imwrite(\"erosion.png\", erosion)\n",
    "    cv2.imwrite(\"dilation2.png\", dilation2)\n",
    " \n",
    "    return dilation2"
   ]
  },
  {
   "cell_type": "code",
   "execution_count": 5,
   "id": "cf51e329",
   "metadata": {},
   "outputs": [],
   "source": [
    "def detect(img):\n",
    "    # 1.  转化成灰度图\n",
    "    gray = cv2.cvtColor(img, cv2.COLOR_BGR2GRAY)\n",
    " \n",
    "    # 2. 形态学变换的预处理，得到可以查找矩形的图片\n",
    "    dilation = preprocess(gray)\n",
    " \n",
    "    # 3. 查找和筛选文字区域\n",
    "    region = findTextRegion(dilation)\n",
    " \n",
    "    # 4. 用绿线画出这些找到的轮廓\n",
    "    for box in region:\n",
    "        cv2.drawContours(img, [box], 0, (0, 255, 0), 2)\n",
    " \n",
    "    cv2.namedWindow(\"img\", cv2.WINDOW_NORMAL)\n",
    "    cv2.imshow(\"img\", img)\n",
    " \n",
    "    # 带轮廓的图片\n",
    "    cv2.imwrite(\"contours.png\", img)\n",
    " \n",
    "    cv2.waitKey(0)\n",
    "    cv2.destroyAllWindows()"
   ]
  },
  {
   "cell_type": "code",
   "execution_count": 6,
   "id": "7d484023",
   "metadata": {},
   "outputs": [],
   "source": [
    "imagePath = '/Users/ryan/OneDrive - The University of Nottingham Ningbo China/Y2/OCR Summer research/Python_Algorithm/OCR Dataset/IMG_0834.JPG'\n",
    "\n",
    "if __name__ == '__main__':\n",
    "    # 读取文件\n",
    "    #imagePath = sys.argv[1]\n",
    "    img = cv2.imread(imagePath)\n",
    "    detect(img)"
   ]
  },
  {
   "cell_type": "code",
   "execution_count": 8,
   "id": "e148b4f7",
   "metadata": {},
   "outputs": [],
   "source": [
    "    imagePath = '/Users/ryan/OneDrive - The University of Nottingham Ningbo China/Y2/OCR Summer research/Python_Algorithm/OCR Dataset/IMG_0834.JPG'\n",
    "\n",
    "    img = cv2.imread(imagePath)   \n",
    "    gray = cv2.cvtColor(img, cv2.COLOR_BGR2GRAY)\n",
    " \n",
    "    # 2. 形态学变换的预处理，得到可以查找矩形的图片\n",
    "    dilation = preprocess(gray)\n",
    " \n",
    "    # 3. 查找和筛选文字区域\n",
    "    region = findTextRegion(dilation)"
   ]
  },
  {
   "cell_type": "code",
   "execution_count": 9,
   "id": "be8b319e",
   "metadata": {},
   "outputs": [
    {
     "data": {
      "text/plain": [
       "array([[1249, 3499],\n",
       "       [1249, 3444],\n",
       "       [1575, 3444],\n",
       "       [1575, 3499]])"
      ]
     },
     "execution_count": 9,
     "metadata": {},
     "output_type": "execute_result"
    }
   ],
   "source": [
    "region[1]"
   ]
  },
  {
   "cell_type": "code",
   "execution_count": 18,
   "id": "4c26e091",
   "metadata": {},
   "outputs": [
    {
     "data": {
      "text/plain": [
       "array([[ 244, 3442],\n",
       "       [ 683, 3442],\n",
       "       [ 683, 3499],\n",
       "       [ 244, 3499]])"
      ]
     },
     "execution_count": 18,
     "metadata": {},
     "output_type": "execute_result"
    }
   ],
   "source": [
    "region[2]"
   ]
  },
  {
   "cell_type": "code",
   "execution_count": 11,
   "id": "22b5f916",
   "metadata": {},
   "outputs": [
    {
     "data": {
      "text/plain": [
       "array([[1641, 3418],\n",
       "       [1720, 3418],\n",
       "       [1720, 3433],\n",
       "       [1641, 3433]])"
      ]
     },
     "execution_count": 11,
     "metadata": {},
     "output_type": "execute_result"
    }
   ],
   "source": [
    "region[3]"
   ]
  },
  {
   "cell_type": "code",
   "execution_count": 10,
   "id": "3c5ebf42",
   "metadata": {},
   "outputs": [
    {
     "data": {
      "text/plain": [
       "list"
      ]
     },
     "execution_count": 10,
     "metadata": {},
     "output_type": "execute_result"
    }
   ],
   "source": [
    "type(region)"
   ]
  },
  {
   "cell_type": "code",
   "execution_count": 14,
   "id": "660908f2",
   "metadata": {},
   "outputs": [],
   "source": [
    "crop_img = img[3444:3499, 1249:1575]"
   ]
  },
  {
   "cell_type": "code",
   "execution_count": 16,
   "id": "96891ca3",
   "metadata": {},
   "outputs": [
    {
     "data": {
      "text/plain": [
       "True"
      ]
     },
     "execution_count": 16,
     "metadata": {},
     "output_type": "execute_result"
    }
   ],
   "source": [
    "crop_img = img[3444:3499, 1249:1575]\n",
    "cv2.namedWindow(\"crop_img\", cv2.WINDOW_NORMAL)\n",
    "cv2.imshow(\"crop_img\", crop_img)\n",
    "cv2.imwrite(\"crop_img.png\", crop_img)"
   ]
  },
  {
   "cell_type": "code",
   "execution_count": 26,
   "id": "30ee9a7f",
   "metadata": {},
   "outputs": [],
   "source": [
    "def extractcor(region):\n",
    "\n",
    "    cropcor = []\n",
    "    for box in region:\n",
    "\n",
    "        x = [] ; y = []\n",
    "\n",
    "        for cordinate in box:\n",
    "            x.append(cordinate[1])\n",
    "            y.append(cordinate[0])\n",
    "\n",
    "        xmax = max(x) ; xmin = min(x)\n",
    "        ymax = max(y) ; ymin = min(y)\n",
    "\n",
    "        tempcor = [xmin,xmax,ymin,ymax]\n",
    "        cropcor.append(tempcor)\n",
    "\n",
    "    return cropcor"
   ]
  },
  {
   "cell_type": "code",
   "execution_count": 27,
   "id": "aadc3c92",
   "metadata": {},
   "outputs": [
    {
     "data": {
      "text/plain": [
       "[[3444, 3497, 2179, 2903],\n",
       " [3444, 3499, 1249, 1575],\n",
       " [3442, 3499, 244, 683],\n",
       " [3418, 3433, 1641, 1720],\n",
       " [3417, 3433, 1306, 1394],\n",
       " [3416, 3431, 1763, 1832],\n",
       " [3416, 3432, 1544, 1639],\n",
       " [3416, 3433, 368, 462],\n",
       " [3415, 3432, 2219, 2305],\n",
       " [3415, 3435, 1925, 2094],\n",
       " [3411, 3434, 2340, 2906],\n",
       " [3347, 3410, 472, 1821],\n",
       " [3284, 3331, 1511, 1716],\n",
       " [3284, 3332, 710, 973],\n",
       " [3284, 3331, 518, 704],\n",
       " [3283, 3332, 239, 473],\n",
       " [3281, 3329, 2007, 2247],\n",
       " [3280, 3334, 1058, 1247],\n",
       " [3279, 3327, 2419, 2612],\n",
       " [3278, 3327, 2681, 2833],\n",
       " [3207, 3265, 471, 1818],\n",
       " [3146, 3196, 709, 971],\n",
       " [3146, 3193, 517, 703],\n",
       " [3144, 3194, 1507, 1714],\n",
       " [3144, 3193, 240, 471],\n",
       " [3141, 3189, 2004, 2244],\n",
       " [3141, 3195, 1060, 1246],\n",
       " [3139, 3185, 2417, 2608],\n",
       " [3137, 3186, 2677, 2830],\n",
       " [3070, 3127, 471, 1677],\n",
       " [3009, 3054, 709, 971],\n",
       " [3008, 3055, 517, 704],\n",
       " [3007, 3054, 242, 473],\n",
       " [3004, 3052, 1491, 1723],\n",
       " [3003, 3056, 1056, 1247],\n",
       " [3002, 3049, 2002, 2243],\n",
       " [2997, 3044, 2415, 2605],\n",
       " [2996, 3043, 2674, 2825],\n",
       " [2933, 2987, 471, 1674],\n",
       " [2871, 2917, 709, 970],\n",
       " [2871, 2918, 242, 472],\n",
       " [2870, 2917, 517, 704],\n",
       " [2865, 2913, 1493, 1720],\n",
       " [2863, 2917, 1054, 1243],\n",
       " [2862, 2910, 1999, 2239],\n",
       " [2858, 2907, 2413, 2603],\n",
       " [2856, 2904, 2671, 2822],\n",
       " [2791, 2850, 470, 1673],\n",
       " [2735, 2782, 241, 472],\n",
       " [2732, 2779, 516, 703],\n",
       " [2731, 2779, 708, 970],\n",
       " [2724, 2772, 1490, 1709],\n",
       " [2723, 2779, 1054, 1243],\n",
       " [2722, 2770, 1996, 2236],\n",
       " [2717, 2765, 2407, 2599],\n",
       " [2716, 2764, 2668, 2819],\n",
       " [2648, 2714, 471, 1810],\n",
       " [2599, 2646, 244, 479],\n",
       " [2596, 2644, 517, 703],\n",
       " [2593, 2644, 711, 970],\n",
       " [2587, 2641, 1055, 1244],\n",
       " [2586, 2634, 1468, 1729],\n",
       " [2583, 2632, 1993, 2232],\n",
       " [2580, 2627, 2406, 2597],\n",
       " [2577, 2625, 2665, 2815],\n",
       " [2510, 2578, 472, 1668],\n",
       " [2463, 2508, 519, 703],\n",
       " [2463, 2510, 244, 479],\n",
       " [2456, 2506, 708, 972],\n",
       " [2448, 2504, 1054, 1243],\n",
       " [2447, 2494, 1476, 1713],\n",
       " [2444, 2492, 1989, 2229],\n",
       " [2440, 2488, 2403, 2592],\n",
       " [2439, 2486, 2661, 2810],\n",
       " [2372, 2449, 472, 1666],\n",
       " [2328, 2374, 243, 480],\n",
       " [2325, 2372, 518, 705],\n",
       " [2320, 2370, 709, 970],\n",
       " [2312, 2369, 1052, 1244],\n",
       " [2310, 2357, 1475, 1711],\n",
       " [2308, 2355, 1986, 2226],\n",
       " [2303, 2350, 2400, 2591],\n",
       " [2300, 2349, 2658, 2807],\n",
       " [2243, 2304, 471, 1277],\n",
       " [2192, 2239, 245, 480],\n",
       " [2191, 2236, 519, 705],\n",
       " [2183, 2237, 709, 971],\n",
       " [2179, 2233, 1077, 1221],\n",
       " [2175, 2224, 1471, 1709],\n",
       " [2171, 2217, 1984, 2223],\n",
       " [2165, 2212, 2396, 2587],\n",
       " [2164, 2210, 2660, 2804],\n",
       " [2102, 2170, 473, 1843],\n",
       " [2058, 2106, 246, 481],\n",
       " [2057, 2100, 519, 706],\n",
       " [2052, 2099, 711, 970],\n",
       " [2044, 2097, 1052, 1243],\n",
       " [2042, 2089, 1485, 1698],\n",
       " [2036, 2081, 2016, 2185],\n",
       " [2028, 2076, 2393, 2584],\n",
       " [2025, 2073, 2650, 2799],\n",
       " [1952, 2042, 474, 2582],\n",
       " [1923, 1970, 247, 481],\n",
       " [1919, 1966, 520, 705],\n",
       " [1915, 1964, 708, 970],\n",
       " [1910, 1965, 1074, 1219],\n",
       " [1907, 1955, 1491, 1684],\n",
       " [1899, 1945, 2002, 2195],\n",
       " [1892, 1939, 2382, 2580],\n",
       " [1887, 1935, 2645, 2794],\n",
       " [1835, 1900, 473, 1660],\n",
       " [1788, 1837, 246, 482],\n",
       " [1786, 1831, 520, 703],\n",
       " [1782, 1830, 708, 969],\n",
       " [1775, 1829, 1050, 1240],\n",
       " [1770, 1823, 1469, 1705],\n",
       " [1765, 1809, 2012, 2181],\n",
       " [1756, 1802, 2389, 2577],\n",
       " [1752, 1798, 2642, 2791],\n",
       " [1689, 1772, 473, 2258],\n",
       " [1652, 1703, 247, 481],\n",
       " [1653, 1698, 520, 705],\n",
       " [1647, 1696, 707, 967],\n",
       " [1642, 1694, 1072, 1217],\n",
       " [1638, 1682, 1501, 1669],\n",
       " [1621, 1678, 1992, 2204],\n",
       " [1620, 1666, 2376, 2573],\n",
       " [1614, 1662, 2638, 2787],\n",
       " [1566, 1632, 473, 1657],\n",
       " [1520, 1571, 248, 481],\n",
       " [1519, 1564, 520, 704],\n",
       " [1514, 1561, 708, 967],\n",
       " [1506, 1561, 1047, 1237],\n",
       " [1502, 1549, 1486, 1690],\n",
       " [1488, 1539, 1991, 2202],\n",
       " [1481, 1529, 2379, 2570],\n",
       " [1479, 1525, 2634, 2783],\n",
       " [1429, 1499, 473, 1656],\n",
       " [1389, 1436, 250, 481],\n",
       " [1387, 1431, 519, 702],\n",
       " [1380, 1427, 708, 965],\n",
       " [1372, 1425, 1046, 1235],\n",
       " [1368, 1415, 1489, 1690],\n",
       " [1354, 1402, 1990, 2198],\n",
       " [1348, 1394, 2377, 2566],\n",
       " [1343, 1391, 2630, 2779],\n",
       " [1288, 1372, 473, 1927],\n",
       " [1256, 1308, 250, 482],\n",
       " [1249, 1302, 517, 703],\n",
       " [1246, 1294, 706, 960],\n",
       " [1236, 1292, 1043, 1233],\n",
       " [1231, 1278, 1485, 1687],\n",
       " [1218, 1271, 1980, 2197],\n",
       " [1210, 1263, 2373, 2563],\n",
       " [1207, 1255, 2625, 2774],\n",
       " [1148, 1248, 473, 2061],\n",
       " [1125, 1175, 250, 481],\n",
       " [1120, 1167, 513, 702],\n",
       " [1114, 1162, 711, 963],\n",
       " [1104, 1158, 1053, 1231],\n",
       " [1099, 1146, 1512, 1675],\n",
       " [1086, 1137, 1977, 2194],\n",
       " [1079, 1126, 2370, 2558],\n",
       " [1075, 1123, 2622, 2770],\n",
       " [995, 1044, 251, 483],\n",
       " [990, 1035, 520, 704],\n",
       " [979, 1034, 706, 963],\n",
       " [975, 1026, 1065, 1207],\n",
       " [962, 1015, 1468, 1697],\n",
       " [955, 1000, 1976, 2192],\n",
       " [946, 992, 2361, 2555],\n",
       " [941, 988, 2618, 2769],\n",
       " [864, 915, 251, 484],\n",
       " [859, 906, 521, 703],\n",
       " [849, 904, 706, 963],\n",
       " [845, 893, 1065, 1207],\n",
       " [830, 881, 1465, 1694],\n",
       " [823, 869, 1980, 2188],\n",
       " [814, 861, 2355, 2551],\n",
       " [807, 854, 2613, 2764],\n",
       " [745, 849, 477, 2239],\n",
       " [735, 782, 253, 485],\n",
       " [730, 775, 522, 706],\n",
       " [719, 773, 708, 963],\n",
       " [710, 763, 1062, 1207],\n",
       " [697, 752, 1462, 1694],\n",
       " [690, 740, 1966, 2197],\n",
       " [681, 729, 2354, 2548],\n",
       " [674, 721, 2612, 2763],\n",
       " [670, 685, 1379, 1456],\n",
       " [664, 682, 1601, 1688],\n",
       " [660, 678, 1797, 1882],\n",
       " [658, 675, 1939, 2020],\n",
       " [652, 669, 2165, 2245],\n",
       " [646, 664, 2349, 2452],\n",
       " [636, 653, 2698, 2777],\n",
       " [633, 685, 539, 682],\n",
       " [573, 625, 320, 458],\n",
       " [567, 619, 538, 681],\n",
       " [564, 615, 748, 928],\n",
       " [557, 607, 1044, 1228],\n",
       " [535, 596, 1459, 1690],\n",
       " [469, 603, 1954, 2772],\n",
       " [526, 555, 2266, 2339],\n",
       " [471, 496, 2086, 2164],\n",
       " [435, 498, 255, 901],\n",
       " [430, 455, 2056, 2131],\n",
       " [414, 480, 2298, 2572],\n",
       " [392, 407, 2757, 2829],\n",
       " [351, 416, 2287, 2583],\n",
       " [326, 363, 2763, 2836],\n",
       " [320, 394, 253, 1054],\n",
       " [312, 367, 1144, 1401],\n",
       " [292, 355, 1602, 1923],\n",
       " [113, 345, 2041, 2814],\n",
       " [55, 136, 770, 1367],\n",
       " [16, 129, 1381, 2263],\n",
       " [13, 46, 93, 189]]"
      ]
     },
     "execution_count": 27,
     "metadata": {},
     "output_type": "execute_result"
    }
   ],
   "source": [
    "extractcor(region)"
   ]
  },
  {
   "cell_type": "code",
   "execution_count": 25,
   "id": "35604251",
   "metadata": {},
   "outputs": [
    {
     "ename": "SyntaxError",
     "evalue": "invalid syntax (<ipython-input-25-f208cdf1dc5f>, line 1)",
     "output_type": "error",
     "traceback": [
      "\u001b[0;36m  File \u001b[0;32m\"<ipython-input-25-f208cdf1dc5f>\"\u001b[0;36m, line \u001b[0;32m1\u001b[0m\n\u001b[0;31m    a = [3444:3499,1249:1575]\u001b[0m\n\u001b[0m             ^\u001b[0m\n\u001b[0;31mSyntaxError\u001b[0m\u001b[0;31m:\u001b[0m invalid syntax\n"
     ]
    }
   ],
   "source": [
    "a = []"
   ]
  },
  {
   "cell_type": "code",
   "execution_count": 22,
   "id": "c331401d",
   "metadata": {},
   "outputs": [
    {
     "data": {
      "text/plain": [
       "1"
      ]
     },
     "execution_count": 22,
     "metadata": {},
     "output_type": "execute_result"
    }
   ],
   "source": [
    "min(a)"
   ]
  },
  {
   "cell_type": "code",
   "execution_count": 23,
   "id": "800f5c83",
   "metadata": {},
   "outputs": [],
   "source": [
    "a = [1,2] ; b = [3,4]"
   ]
  },
  {
   "cell_type": "code",
   "execution_count": 24,
   "id": "e434f347",
   "metadata": {},
   "outputs": [
    {
     "data": {
      "text/plain": [
       "[3, 4]"
      ]
     },
     "execution_count": 24,
     "metadata": {},
     "output_type": "execute_result"
    }
   ],
   "source": [
    "b"
   ]
  },
  {
   "cell_type": "code",
   "execution_count": null,
   "id": "1eaeaeb7",
   "metadata": {},
   "outputs": [],
   "source": [
    "# filename=0\n",
    "# filenum=0\n",
    "# img=cv2.cvtColor(img,cv2.COLOR_BGR2GRAY)\n",
    "# b=20#数字块大小为20×20\n",
    "# m=img.shape[0]//b\n",
    "# n=img.shape[1]//b\n",
    "imagePath = 'IMG_1.jpg'\n",
    "\n",
    "if __name__ == '__main__':\n",
    "    # 读取文件\n",
    "    #imagePath = sys.argv[1]\n",
    "    img = cv2.imread(imagePath)\n",
    "    cor=detect(img)\n",
    "\n",
    "coordinates=cor[::-1]\n",
    "coordinates_int10=np.floor_divide(coordinates,10)\n",
    "numberofrows=len(coordinates)\n",
    "\n",
    "columns=[]\n",
    "for i in range(numberofrows):\n",
    "    if i==0 or coordinates_int10[i][0]>coordinates_int10[i-1][0]:\n",
    "        crop_img = img[coordinates[i][0]:coordinates[i][1], coordinates[i][2]:coordinates[i][3]]\n",
    "        result = list(pytesseract.image_to_string (crop_img, lang='chi_sim'))\n",
    "        columns.append(result)\n",
    "\n",
    "    else:\n",
    "        if coordinates_int10[i][2]>coordinates_int10[i-1][2]:\n",
    "            crop_img = img[coordinates[i][0]:coordinates[i][1], coordinates[i][2]:coordinates[i][3]]\n",
    "            result = list(pytesseract.image_to_string (crop_img, lang='chi_sim'))\n",
    "            columns[i-1].append(result)\n",
    "\n",
    "df=pd.DataFrame(columns)\n",
    "df.fillna('',inplace=True)\n",
    "\n",
    "# path=\"result/result.xlsx\"\n",
    "# if not os.path.exists(path):\n",
    "#     os.makedirs(path)\n",
    "df.to_excel('result.xlsx',index=False)\n",
    "\n",
    "\n",
    "\n",
    "\n",
    "\n",
    "#    offsetRow=i*b\n",
    "#    if i%5==0 and i !=0:\n",
    "#        filename+=1\n",
    "#        filenum=0\n",
    "       \n",
    "    # for j in range(n):\n",
    "    #     offsetCol=j*b\n",
    "    #     filepath=path+\"\\\\\"+str(filenum)+\".jpg\"\n",
    "    #     filenum+=1\n",
    "    #     im=img[offsetRow:offsetRow+b-1,offsetCol:offsetCol+b-1]\n",
    "    #     cv2.imwrite(filepath,im, [int( cv2.IMWRITE_JPEG_QUALITY), 95])\n",
    "#print(filename,filenum)\n",
    "#print(path)"
   ]
  }
 ],
 "metadata": {
  "kernelspec": {
   "display_name": "Python 3",
   "language": "python",
   "name": "python3"
  },
  "language_info": {
   "codemirror_mode": {
    "name": "ipython",
    "version": 3
   },
   "file_extension": ".py",
   "mimetype": "text/x-python",
   "name": "python",
   "nbconvert_exporter": "python",
   "pygments_lexer": "ipython3",
   "version": "3.8.8"
  }
 },
 "nbformat": 4,
 "nbformat_minor": 5
}
